{
 "cells": [
  {
   "cell_type": "markdown",
   "metadata": {},
   "source": [
    "### FSL based DTI processing"
   ]
  },
  {
   "cell_type": "code",
   "execution_count": 1,
   "metadata": {},
   "outputs": [],
   "source": [
    "module load singularity"
   ]
  },
  {
   "cell_type": "markdown",
   "metadata": {},
   "source": [
    "__NOTE__: Please change the command below to `cp -r /xdisk/nkchen/dataDWI /extra/\"YourNedID\"`"
   ]
  },
  {
   "cell_type": "code",
   "execution_count": 2,
   "metadata": {},
   "outputs": [],
   "source": [
    "cp -r /xdisk/nkchen/dataDWI /extra/nkchen"
   ]
  },
  {
   "cell_type": "markdown",
   "metadata": {},
   "source": [
    "__NOTE__: Please replace `nkchen` with `\"YourNetID` in the following command"
   ]
  },
  {
   "cell_type": "code",
   "execution_count": 3,
   "metadata": {},
   "outputs": [
    {
     "name": "stdout",
     "output_type": "stream",
     "text": [
      "0 128 0 128 0 69\n",
      "0 slices processed\n",
      "1 slices processed\n",
      "2 slices processed\n",
      "3 slices processed\n",
      "4 slices processed\n",
      "5 slices processed\n",
      "6 slices processed\n",
      "7 slices processed\n",
      "8 slices processed\n",
      "9 slices processed\n",
      "10 slices processed\n",
      "11 slices processed\n",
      "12 slices processed\n",
      "13 slices processed\n",
      "14 slices processed\n",
      "15 slices processed\n",
      "16 slices processed\n",
      "17 slices processed\n",
      "18 slices processed\n",
      "19 slices processed\n",
      "20 slices processed\n",
      "21 slices processed\n",
      "22 slices processed\n",
      "23 slices processed\n",
      "24 slices processed\n",
      "25 slices processed\n",
      "26 slices processed\n",
      "27 slices processed\n",
      "28 slices processed\n",
      "29 slices processed\n",
      "30 slices processed\n",
      "31 slices processed\n",
      "32 slices processed\n",
      "33 slices processed\n",
      "34 slices processed\n",
      "35 slices processed\n",
      "36 slices processed\n",
      "37 slices processed\n",
      "38 slices processed\n",
      "39 slices processed\n",
      "40 slices processed\n",
      "41 slices processed\n",
      "42 slices processed\n",
      "43 slices processed\n",
      "44 slices processed\n",
      "45 slices processed\n",
      "46 slices processed\n",
      "47 slices processed\n",
      "48 slices processed\n",
      "49 slices processed\n",
      "50 slices processed\n",
      "51 slices processed\n",
      "52 slices processed\n",
      "53 slices processed\n",
      "54 slices processed\n",
      "55 slices processed\n",
      "56 slices processed\n",
      "57 slices processed\n",
      "58 slices processed\n",
      "59 slices processed\n",
      "60 slices processed\n",
      "61 slices processed\n",
      "62 slices processed\n",
      "63 slices processed\n",
      "64 slices processed\n",
      "65 slices processed\n",
      "66 slices processed\n",
      "67 slices processed\n",
      "68 slices processed\n"
     ]
    }
   ],
   "source": [
    "singularity run --bind /extra/nkchen/dataDWI:/tmp /xdisk/chidiugonna/singularity-images/nklab-neuro-tools.simg dtifit --data=/tmp/dwi.nii.gz --out=/tmp/dti --mask=/tmp/mask.nii.gz --bvecs=/tmp/bvec --bvals=/tmp/bval"
   ]
  }
 ],
 "metadata": {
  "kernelspec": {
   "display_name": "Bash",
   "language": "bash",
   "name": "bash"
  },
  "language_info": {
   "codemirror_mode": "shell",
   "file_extension": ".sh",
   "mimetype": "text/x-sh",
   "name": "bash"
  }
 },
 "nbformat": 4,
 "nbformat_minor": 2
}
